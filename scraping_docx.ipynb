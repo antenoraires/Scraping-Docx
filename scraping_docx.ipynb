{
  "nbformat": 4,
  "nbformat_minor": 0,
  "metadata": {
    "colab": {
      "provenance": []
    },
    "kernelspec": {
      "name": "python3",
      "display_name": "Python 3"
    },
    "language_info": {
      "name": "python"
    }
  },
  "cells": [
    {
      "cell_type": "markdown",
      "source": [
        "# **Importando bibliotecas**\n",
        "\n",
        "\n",
        "\n",
        "\n"
      ],
      "metadata": {
        "id": "yJ0WyIMK44UK"
      }
    },
    {
      "cell_type": "code",
      "execution_count": null,
      "metadata": {
        "id": "rsYy49gv4tLI"
      },
      "outputs": [],
      "source": [
        "!pip install python-docx \n",
        "import os\n",
        "from docx import Document\n",
        "# Diretorio dos arquivos\n",
        "folder_path = ''"
      ]
    },
    {
      "cell_type": "markdown",
      "source": [
        "# **Função para escanear arquivos \"docx\"**"
      ],
      "metadata": {
        "id": "eAeUcWCT5A70"
      }
    },
    {
      "cell_type": "code",
      "source": [
        "arquivos_analisados = []\n",
        "atos_originarios = []\n",
        "# funções de escanear o diretorio\n",
        "for filename in os.listdir(folder_path):\n",
        "    if filename.endswith('.docx'):\n",
        "        file_path = os.path.join(folder_path, filename)\n",
        "        arquivos_analisados.append(filename)\n",
        "        doc = Document(file_path)\n",
        "        ato_originario = \"\"\n",
        "        recomendacoes = \"\"\n",
        "        started = False\n",
        "        content = [p.text for p in doc.paragraphs]\n",
        "# Descrever as palavras a ser pesquisada\n",
        "        for para in doc.paragraphs:\n",
        "            if para.text.startswith(\"\"):\n",
        "                ato_originario = para.text\n",
        "            if para.text.startswith(\"\"):\n",
        "                recomendacoes += para.text + '\\n'\n",
        "                started = True\n",
        "            elif started:\n",
        "                if para.text == \"\":\n",
        "                    started = False\n",
        "                else:\n",
        "                    recomendacoes += para.text + '\\n'\n",
        "            if not started and ato_originario and recomendacoes:\n",
        "                atos_originarios.append({\"ato_originario\": ato_originario, \"recomendacoes\": recomendacoes})\n",
        "                ato_originario = \"\"\n",
        "                recomendacoes = \"\"\n",
        "\n",
        "result_doc = Document()"
      ],
      "metadata": {
        "id": "FOIS1xJB4yCb"
      },
      "execution_count": null,
      "outputs": []
    },
    {
      "cell_type": "markdown",
      "source": [
        "# **Salvando informações**"
      ],
      "metadata": {
        "id": "fIjevrk56daA"
      }
    },
    {
      "cell_type": "code",
      "source": [
        "# Salvando informações dos arquivos\n",
        "for ato in atos_originarios:\n",
        "    result_doc.add_heading(\"Ato Originário\")\n",
        "    result_doc.add_paragraph(ato[\"ato_originario\"])\n",
        "    result_doc.add_heading(\"O QUE A COAUD RECOMENDA\")\n",
        "    result_doc.add_paragraph(ato[\"recomendacoes\"])\n",
        "result_doc.add_page_break()\n",
        "result_doc.add_heading(\"Arquivos Analisados\")"
      ],
      "metadata": {
        "id": "l78N8hcO4yFa"
      },
      "execution_count": null,
      "outputs": []
    },
    {
      "cell_type": "code",
      "source": [
        "# exportando informações\n",
        "for arquivo in arquivos_analisados:\n",
        "    result_doc.add_paragraph(arquivo)\n",
        "result_doc.save(\"resultado.docx\")"
      ],
      "metadata": {
        "id": "QQOUru5b4yH5"
      },
      "execution_count": null,
      "outputs": []
    }
  ]
}